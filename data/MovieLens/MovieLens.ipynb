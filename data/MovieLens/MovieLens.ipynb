{
  "nbformat": 4,
  "nbformat_minor": 0,
  "metadata": {
    "colab": {
      "provenance": []
    },
    "kernelspec": {
      "name": "python3",
      "display_name": "Python 3"
    },
    "language_info": {
      "name": "python"
    }
  },
  "cells": [
    {
      "cell_type": "code",
      "execution_count": 1,
      "metadata": {
        "id": "EFsV9X3p1GHS"
      },
      "outputs": [],
      "source": [
        "# === Parameters ===\n",
        "raw_dir     = './data/raw'        # path to ratings.dat, movies.dat\n",
        "out_dir     = './data/processed'\n",
        "min_history = 5\n",
        "cal_ratio   = 0.1\n",
        "candidates  = 20"
      ]
    },
    {
      "cell_type": "code",
      "source": [
        "import os, json, random\n",
        "import pandas as pd\n",
        "from collections import defaultdict\n",
        "\n",
        "os.makedirs(raw_dir, exist_ok=True)\n",
        "os.makedirs(out_dir, exist_ok=True)\n",
        "random.seed(42)\n"
      ],
      "metadata": {
        "id": "0MIsPxZj1O0n"
      },
      "execution_count": 2,
      "outputs": []
    },
    {
      "cell_type": "code",
      "source": [
        "# 1) 加载评分日志\n",
        "ratings_path = os.path.join(raw_dir, 'ratings.dat')\n",
        "if not os.path.exists(ratings_path):\n",
        "    raise FileNotFoundError(f\"{ratings_path} not found. 请确认文件已上传/挂载。\")\n",
        "df_ratings = pd.read_csv(ratings_path, sep='::', engine='python',\n",
        "                         names=['user_id','item_id','rating','timestamp'])\n",
        "print(f\"Loaded {len(df_ratings)} interactions\")\n",
        "print(f\"Users: {df_ratings['user_id'].nunique()}, Items: {df_ratings['item_id'].nunique()}\")\n"
      ],
      "metadata": {
        "colab": {
          "base_uri": "https://localhost:8080/"
        },
        "id": "lsAVGDc91nbq",
        "outputId": "94ddc7a2-c590-420d-f618-d233b5850610"
      },
      "execution_count": 4,
      "outputs": [
        {
          "output_type": "stream",
          "name": "stdout",
          "text": [
            "Loaded 1000209 interactions\n",
            "Users: 6040, Items: 3706\n"
          ]
        }
      ]
    },
    {
      "cell_type": "code",
      "source": [
        "# 2) 加载电影元数据\n",
        "item_meta = {}\n",
        "movies_path = os.path.join(raw_dir, 'movies.dat')\n",
        "if not os.path.exists(movies_path):\n",
        "    raise FileNotFoundError(f\"{movies_path} not found.\")\n",
        "with open(movies_path, 'r', encoding='ISO-8859-1') as f:\n",
        "    for line in f:\n",
        "        m, title, genres = line.strip().split('::')\n",
        "        item_meta[int(m)] = {'title': title, 'genres': genres.split('|')}\n",
        "print(f\"Loaded metadata for {len(item_meta)} movies\")"
      ],
      "metadata": {
        "colab": {
          "base_uri": "https://localhost:8080/"
        },
        "id": "0ZlZ63qL1thM",
        "outputId": "78a9b22a-00cd-475e-a929-56ca8ca816a9"
      },
      "execution_count": 5,
      "outputs": [
        {
          "output_type": "stream",
          "name": "stdout",
          "text": [
            "Loaded metadata for 3883 movies\n"
          ]
        }
      ]
    },
    {
      "cell_type": "code",
      "source": [
        "# 3) 构建用户序列\n",
        "max_history = 30\n",
        "user_seqs = {}\n",
        "seq_lens = []\n",
        "\n",
        "for u, grp in df_ratings.groupby('user_id'):\n",
        "    full_seq = grp.sort_values('timestamp')['item_id'].tolist()\n",
        "    if len(full_seq) >= min_history + 1:\n",
        "        trunc_seq = full_seq[-max_history:]\n",
        "        user_seqs[u] = trunc_seq\n",
        "        seq_lens.append(len(trunc_seq))\n",
        "\n",
        "print(f\"Users with ≥{min_history+1} interactions: {len(user_seqs)}\")\n",
        "print(f\"Truncated sequence lengths (≤{max_history}): \"\n",
        "      f\"min={min(seq_lens)}, max={max(seq_lens)}, avg={sum(seq_lens)/len(seq_lens):.1f}\")\n"
      ],
      "metadata": {
        "colab": {
          "base_uri": "https://localhost:8080/"
        },
        "id": "-5JNxrrx1yVR",
        "outputId": "e01f2569-205e-4b4c-9227-e59080142016"
      },
      "execution_count": 6,
      "outputs": [
        {
          "output_type": "stream",
          "name": "stdout",
          "text": [
            "Users with ≥6 interactions: 6040\n",
            "Truncated sequence lengths (≤30): min=20, max=30, avg=29.3\n"
          ]
        }
      ]
    },
    {
      "cell_type": "code",
      "source": [
        "# 4) 生成 (history, next) 样本\n",
        "samples = []\n",
        "for u, seq in user_seqs.items():\n",
        "    for t in range(min_history, len(seq)):\n",
        "        samples.append((u, seq[:t], seq[t]))\n",
        "print(f\"Total samples (history→next): {len(samples)}\")"
      ],
      "metadata": {
        "colab": {
          "base_uri": "https://localhost:8080/"
        },
        "id": "nrAcnc6e3TlO",
        "outputId": "a0a23ab7-f91b-4ad5-a19a-bf8bb61e527e"
      },
      "execution_count": 7,
      "outputs": [
        {
          "output_type": "stream",
          "name": "stdout",
          "text": [
            "Total samples (history→next): 146639\n"
          ]
        }
      ]
    },
    {
      "cell_type": "code",
      "source": [
        "# 5) Split Train / Cal / Test\n",
        "from collections import defaultdict\n",
        "import random\n",
        "\n",
        "by_user = defaultdict(list)\n",
        "for u, h, n in samples:\n",
        "    by_user[u].append((h, n))\n",
        "\n",
        "train_samps, cal_samps, test_samps = [], [], []\n",
        "for u, seqs in by_user.items():\n",
        "    # seqs is [(hist1,nxt1), …, (hist_last-1,nxt_last-1), (hist_last,nxt_last)]\n",
        "    *rest, last = seqs\n",
        "\n",
        "    # Test: last interaction\n",
        "    hist_last, nxt_last = last\n",
        "    test_samps.append((u, hist_last, nxt_last))\n",
        "\n",
        "    # Cal: second‑to‑last interaction\n",
        "    hist_cal, nxt_cal = rest[-1]\n",
        "    cal_samps.append((u, hist_cal, nxt_cal))\n",
        "\n",
        "    # Train: all earlier interactions\n",
        "    for hist_t, nxt_t in rest[:-1]:\n",
        "        train_samps.append((u, hist_t, nxt_t))\n",
        "\n",
        "print(f\"Train samples: {len(train_samps)}\")\n",
        "print(f\"Cal   samples: {len(cal_samps)} \")\n",
        "print(f\"Test  samples: {len(test_samps)}\")\n"
      ],
      "metadata": {
        "colab": {
          "base_uri": "https://localhost:8080/"
        },
        "id": "OitI0X043j8n",
        "outputId": "2c5badae-a4d4-4279-b3a5-383ea5f0c079"
      },
      "execution_count": 8,
      "outputs": [
        {
          "output_type": "stream",
          "name": "stdout",
          "text": [
            "Train samples: 134559\n",
            "Cal   samples: 6040 \n",
            "Test  samples: 6040\n"
          ]
        }
      ]
    },
    {
      "cell_type": "code",
      "source": [
        "# 6) 训练集历史长度统计\n",
        "hist_lens = [len(h) for u,h,n in train_samps]\n",
        "print(f\"Train history lengths: min={min(hist_lens)}, max={max(hist_lens)}, avg={sum(hist_lens)/len(hist_lens):.1f}\")\n"
      ],
      "metadata": {
        "colab": {
          "base_uri": "https://localhost:8080/"
        },
        "id": "BAOdLdVY4GZz",
        "outputId": "4821a850-1639-4694-ba70-9d2f31150841"
      },
      "execution_count": 9,
      "outputs": [
        {
          "output_type": "stream",
          "name": "stdout",
          "text": [
            "Train history lengths: min=5, max=27, avg=15.7\n"
          ]
        }
      ]
    },
    {
      "cell_type": "code",
      "source": [
        "# 7) 负采样函数\n",
        "all_items = df_ratings['item_id'].unique().tolist()\n",
        "\n",
        "def sample_cands(hist, nxt):\n",
        "    \"\"\"\n",
        "    Returns a shuffled list of candidates (1 positive + (candidates-1) negatives).\n",
        "    \"\"\"\n",
        "    M_neg = candidates - 1\n",
        "    # Sample negatives\n",
        "    negs = list(set(all_items) - set(hist) - {nxt})\n",
        "    if len(negs) < M_neg:\n",
        "        negs = random.choices(negs, k=M_neg)\n",
        "    else:\n",
        "        negs = random.sample(negs, M_neg)\n",
        "    # Combine and shuffle\n",
        "    items = [nxt] + negs\n",
        "    random.shuffle(items)\n",
        "    return items\n",
        "\n",
        "# Example usage\n",
        "print(sample_cands([1, 2, 3], 4))  # Outputs candidates in random order\n"
      ],
      "metadata": {
        "colab": {
          "base_uri": "https://localhost:8080/"
        },
        "id": "f57CSfo_57UI",
        "outputId": "d117f9a2-cb97-4b84-f922-ae310c8365bf"
      },
      "execution_count": 10,
      "outputs": [
        {
          "output_type": "stream",
          "name": "stdout",
          "text": [
            "[3244, 3261, 1220, 2828, 370, 131, 3265, 1912, 3904, 139, 2430, 437, 2987, 110, 589, 4, 2624, 980, 1079, 474]\n"
          ]
        }
      ]
    },
    {
      "cell_type": "code",
      "source": [
        "# 8) Write JSONL with titles, genres, and label title/genres\n",
        "def write_split(name, splits):\n",
        "    path = os.path.join(out_dir, f\"{name}.jsonl\")\n",
        "    with open(path, 'w') as f:\n",
        "        for u, h, n in splits:\n",
        "            cands = sample_cands(h, n)\n",
        "            rec = {\n",
        "                'user_id':            u,\n",
        "                'history':            h,\n",
        "                'history_titles':     [item_meta[i]['title'] for i in h],\n",
        "                'history_genres':     [item_meta[i]['genres'] for i in h],\n",
        "                'candidates':         cands,\n",
        "                'candidates_titles':  [item_meta[i]['title'] for i in cands],\n",
        "                'candidates_genres':  [item_meta[i]['genres'] for i in cands],\n",
        "                'label':              n,\n",
        "                'label_title':        item_meta[n]['title']\n",
        "\n",
        "            }\n",
        "            f.write(json.dumps(rec, ensure_ascii=False) + '\\n')\n",
        "    print(f\"Wrote {len(splits)} samples to {path}\")\n",
        "\n",
        "# Generate files\n",
        "write_split('train', train_samps)\n",
        "write_split('cal',   cal_samps)\n",
        "write_split('test',  test_samps)\n"
      ],
      "metadata": {
        "colab": {
          "base_uri": "https://localhost:8080/"
        },
        "id": "4Xi15pq85_4z",
        "outputId": "e8e59360-15a3-4d84-bef3-b75f041e8a74"
      },
      "execution_count": 11,
      "outputs": [
        {
          "output_type": "stream",
          "name": "stdout",
          "text": [
            "Wrote 134559 samples to ./data/processed/train.jsonl\n",
            "Wrote 6040 samples to ./data/processed/cal.jsonl\n",
            "Wrote 6040 samples to ./data/processed/test.jsonl\n"
          ]
        }
      ]
    },
    {
      "cell_type": "markdown",
      "source": [],
      "metadata": {
        "id": "f9Jl67rW8dYU"
      }
    },
    {
      "cell_type": "code",
      "source": [
        "# 9) 写入电影元数据\n",
        "meta_path = os.path.join(out_dir, 'item_meta.json')\n",
        "with open(meta_path, 'w') as f:\n",
        "    json.dump(item_meta, f, ensure_ascii=False, indent=2)\n",
        "print(f\"Wrote {len(item_meta)} movie metadata entries to {meta_path}\")"
      ],
      "metadata": {
        "colab": {
          "base_uri": "https://localhost:8080/"
        },
        "id": "EVvcSG4d6Us2",
        "outputId": "762ad8a4-b76b-4872-fb37-3d35fc2637d6"
      },
      "execution_count": 12,
      "outputs": [
        {
          "output_type": "stream",
          "name": "stdout",
          "text": [
            "Wrote 3883 movie metadata entries to ./data/processed/item_meta.json\n"
          ]
        }
      ]
    },
    {
      "cell_type": "code",
      "source": [
        "# Checking and Analyzing the Processed SarRec Datasets with Graceful File Checks\n",
        "\n",
        "import os\n",
        "import pandas as pd\n",
        "from collections import defaultdict\n",
        "\n",
        "# Paths\n",
        "train_path = 'data/processed/train.jsonl'\n",
        "cal_path   = 'data/processed/cal.jsonl'\n",
        "test_path  = 'data/processed/test.jsonl'\n",
        "\n",
        "dfs = {}\n",
        "for name, path in [('Train', train_path), ('Calibration', cal_path), ('Test', test_path)]:\n",
        "    if os.path.exists(path):\n",
        "        dfs[name] = pd.read_json(path, lines=True)\n",
        "        print(f\"Loaded {len(dfs[name])} samples for {name} from {path}\")\n",
        "    else:\n",
        "        print(f\"Warning: {path} not found. Skipping {name}.\")\n",
        "        dfs[name] = None\n",
        "\n",
        "# If Train exists, sample display and stats\n",
        "if dfs['Train'] is not None:\n",
        "    df = dfs['Train']\n",
        "    from IPython.display import display\n",
        "\n",
        "    print(\"\\n=== Train Sample ===\")\n",
        "    display(df.head())\n",
        "\n",
        "    print(\"\\n--- Train Stats ---\")\n",
        "    print(\"Total samples:\", len(df))\n",
        "    print(\"Unique users:\", df['user_id'].nunique())\n",
        "    # Unique items\n",
        "    items = df['history'].explode().tolist() + df['candidates'].explode().tolist()\n",
        "    print(\"Unique items:\", len(set(items)))\n",
        "    # History length\n",
        "    df['hist_len'] = df['history'].apply(len)\n",
        "    print(\"History length stats:\\n\", df['hist_len'].describe())\n",
        "    # Candidate list length\n",
        "    df['cand_len'] = df['candidates'].apply(len)\n",
        "    print(\"Candidate lengths:\", df['cand_len'].unique())\n",
        "\n",
        "    # Label positions\n",
        "    positions = df.apply(lambda row: row['candidates'].index(row['label']), axis=1)\n",
        "    print(\"Label position distribution:\\n\", positions.value_counts().sort_index())\n",
        "\n"
      ],
      "metadata": {
        "colab": {
          "base_uri": "https://localhost:8080/",
          "height": 1000
        },
        "id": "CX0IjqRx6p5m",
        "outputId": "1212a9b6-d2ad-4b61-f836-9d9ae715b5a2"
      },
      "execution_count": 13,
      "outputs": [
        {
          "output_type": "stream",
          "name": "stdout",
          "text": [
            "Loaded 134559 samples for Train from data/processed/train.jsonl\n",
            "Loaded 6040 samples for Calibration from data/processed/cal.jsonl\n",
            "Loaded 6040 samples for Test from data/processed/test.jsonl\n",
            "\n",
            "=== Train Sample ===\n"
          ]
        },
        {
          "output_type": "display_data",
          "data": {
            "text/plain": [
              "   user_id                                            history  \\\n",
              "0        1                      [1028, 1097, 914, 2797, 1287]   \n",
              "1        1                [1028, 1097, 914, 2797, 1287, 2762]   \n",
              "2        1          [1028, 1097, 914, 2797, 1287, 2762, 1246]   \n",
              "3        1     [1028, 1097, 914, 2797, 1287, 2762, 1246, 661]   \n",
              "4        1  [1028, 1097, 914, 2797, 1287, 2762, 1246, 661,...   \n",
              "\n",
              "                                      history_titles  \\\n",
              "0  [Mary Poppins (1964), E.T. the Extra-Terrestri...   \n",
              "1  [Mary Poppins (1964), E.T. the Extra-Terrestri...   \n",
              "2  [Mary Poppins (1964), E.T. the Extra-Terrestri...   \n",
              "3  [Mary Poppins (1964), E.T. the Extra-Terrestri...   \n",
              "4  [Mary Poppins (1964), E.T. the Extra-Terrestri...   \n",
              "\n",
              "                                      history_genres  \\\n",
              "0  [[Children's, Comedy, Musical], [Children's, D...   \n",
              "1  [[Children's, Comedy, Musical], [Children's, D...   \n",
              "2  [[Children's, Comedy, Musical], [Children's, D...   \n",
              "3  [[Children's, Comedy, Musical], [Children's, D...   \n",
              "4  [[Children's, Comedy, Musical], [Children's, D...   \n",
              "\n",
              "                                          candidates  \\\n",
              "0  [1498, 943, 2678, 432, 3545, 389, 1605, 2762, ...   \n",
              "1  [301, 1591, 1702, 2812, 1232, 2868, 1633, 3097...   \n",
              "2  [3164, 585, 933, 1795, 1176, 1085, 1393, 3285,...   \n",
              "3  [483, 2366, 1185, 470, 48, 2840, 3777, 3879, 2...   \n",
              "4  [3362, 3, 531, 2409, 2372, 3431, 2189, 81, 385...   \n",
              "\n",
              "                                   candidates_titles  \\\n",
              "0  [Inventing the Abbotts (1997), Ghost and Mrs. ...   \n",
              "1  [Picture Bride (1995), Spawn (1997), Flubber (...   \n",
              "2  [Alley Cats, The (1968), Brady Bunch Movie, Th...   \n",
              "3  [King of the Hill (1993), King Kong (1933), My...   \n",
              "4  [Dog Day Afternoon (1975), Grumpier Old Men (1...   \n",
              "\n",
              "                                   candidates_genres  label  \\\n",
              "0  [[Drama, Romance], [Drama, Romance], [Drama], ...   2762   \n",
              "1  [[Drama, Romance], [Action, Adventure, Sci-Fi,...   1246   \n",
              "2  [[Drama], [Comedy], [Comedy, Romance, Thriller...    661   \n",
              "3  [[Drama], [Action, Adventure, Horror], [Drama]...   2918   \n",
              "4  [[Comedy, Crime, Drama], [Comedy, Romance], [C...    531   \n",
              "\n",
              "                        label_title  \n",
              "0           Sixth Sense, The (1999)  \n",
              "1         Dead Poets Society (1989)  \n",
              "2  James and the Giant Peach (1996)  \n",
              "3   Ferris Bueller's Day Off (1986)  \n",
              "4         Secret Garden, The (1993)  "
            ],
            "text/html": [
              "\n",
              "  <div id=\"df-f15b9e23-a563-4292-9f50-dbd5a0083bc0\" class=\"colab-df-container\">\n",
              "    <div>\n",
              "<style scoped>\n",
              "    .dataframe tbody tr th:only-of-type {\n",
              "        vertical-align: middle;\n",
              "    }\n",
              "\n",
              "    .dataframe tbody tr th {\n",
              "        vertical-align: top;\n",
              "    }\n",
              "\n",
              "    .dataframe thead th {\n",
              "        text-align: right;\n",
              "    }\n",
              "</style>\n",
              "<table border=\"1\" class=\"dataframe\">\n",
              "  <thead>\n",
              "    <tr style=\"text-align: right;\">\n",
              "      <th></th>\n",
              "      <th>user_id</th>\n",
              "      <th>history</th>\n",
              "      <th>history_titles</th>\n",
              "      <th>history_genres</th>\n",
              "      <th>candidates</th>\n",
              "      <th>candidates_titles</th>\n",
              "      <th>candidates_genres</th>\n",
              "      <th>label</th>\n",
              "      <th>label_title</th>\n",
              "    </tr>\n",
              "  </thead>\n",
              "  <tbody>\n",
              "    <tr>\n",
              "      <th>0</th>\n",
              "      <td>1</td>\n",
              "      <td>[1028, 1097, 914, 2797, 1287]</td>\n",
              "      <td>[Mary Poppins (1964), E.T. the Extra-Terrestri...</td>\n",
              "      <td>[[Children's, Comedy, Musical], [Children's, D...</td>\n",
              "      <td>[1498, 943, 2678, 432, 3545, 389, 1605, 2762, ...</td>\n",
              "      <td>[Inventing the Abbotts (1997), Ghost and Mrs. ...</td>\n",
              "      <td>[[Drama, Romance], [Drama, Romance], [Drama], ...</td>\n",
              "      <td>2762</td>\n",
              "      <td>Sixth Sense, The (1999)</td>\n",
              "    </tr>\n",
              "    <tr>\n",
              "      <th>1</th>\n",
              "      <td>1</td>\n",
              "      <td>[1028, 1097, 914, 2797, 1287, 2762]</td>\n",
              "      <td>[Mary Poppins (1964), E.T. the Extra-Terrestri...</td>\n",
              "      <td>[[Children's, Comedy, Musical], [Children's, D...</td>\n",
              "      <td>[301, 1591, 1702, 2812, 1232, 2868, 1633, 3097...</td>\n",
              "      <td>[Picture Bride (1995), Spawn (1997), Flubber (...</td>\n",
              "      <td>[[Drama, Romance], [Action, Adventure, Sci-Fi,...</td>\n",
              "      <td>1246</td>\n",
              "      <td>Dead Poets Society (1989)</td>\n",
              "    </tr>\n",
              "    <tr>\n",
              "      <th>2</th>\n",
              "      <td>1</td>\n",
              "      <td>[1028, 1097, 914, 2797, 1287, 2762, 1246]</td>\n",
              "      <td>[Mary Poppins (1964), E.T. the Extra-Terrestri...</td>\n",
              "      <td>[[Children's, Comedy, Musical], [Children's, D...</td>\n",
              "      <td>[3164, 585, 933, 1795, 1176, 1085, 1393, 3285,...</td>\n",
              "      <td>[Alley Cats, The (1968), Brady Bunch Movie, Th...</td>\n",
              "      <td>[[Drama], [Comedy], [Comedy, Romance, Thriller...</td>\n",
              "      <td>661</td>\n",
              "      <td>James and the Giant Peach (1996)</td>\n",
              "    </tr>\n",
              "    <tr>\n",
              "      <th>3</th>\n",
              "      <td>1</td>\n",
              "      <td>[1028, 1097, 914, 2797, 1287, 2762, 1246, 661]</td>\n",
              "      <td>[Mary Poppins (1964), E.T. the Extra-Terrestri...</td>\n",
              "      <td>[[Children's, Comedy, Musical], [Children's, D...</td>\n",
              "      <td>[483, 2366, 1185, 470, 48, 2840, 3777, 3879, 2...</td>\n",
              "      <td>[King of the Hill (1993), King Kong (1933), My...</td>\n",
              "      <td>[[Drama], [Action, Adventure, Horror], [Drama]...</td>\n",
              "      <td>2918</td>\n",
              "      <td>Ferris Bueller's Day Off (1986)</td>\n",
              "    </tr>\n",
              "    <tr>\n",
              "      <th>4</th>\n",
              "      <td>1</td>\n",
              "      <td>[1028, 1097, 914, 2797, 1287, 2762, 1246, 661,...</td>\n",
              "      <td>[Mary Poppins (1964), E.T. the Extra-Terrestri...</td>\n",
              "      <td>[[Children's, Comedy, Musical], [Children's, D...</td>\n",
              "      <td>[3362, 3, 531, 2409, 2372, 3431, 2189, 81, 385...</td>\n",
              "      <td>[Dog Day Afternoon (1975), Grumpier Old Men (1...</td>\n",
              "      <td>[[Comedy, Crime, Drama], [Comedy, Romance], [C...</td>\n",
              "      <td>531</td>\n",
              "      <td>Secret Garden, The (1993)</td>\n",
              "    </tr>\n",
              "  </tbody>\n",
              "</table>\n",
              "</div>\n",
              "    <div class=\"colab-df-buttons\">\n",
              "\n",
              "  <div class=\"colab-df-container\">\n",
              "    <button class=\"colab-df-convert\" onclick=\"convertToInteractive('df-f15b9e23-a563-4292-9f50-dbd5a0083bc0')\"\n",
              "            title=\"Convert this dataframe to an interactive table.\"\n",
              "            style=\"display:none;\">\n",
              "\n",
              "  <svg xmlns=\"http://www.w3.org/2000/svg\" height=\"24px\" viewBox=\"0 -960 960 960\">\n",
              "    <path d=\"M120-120v-720h720v720H120Zm60-500h600v-160H180v160Zm220 220h160v-160H400v160Zm0 220h160v-160H400v160ZM180-400h160v-160H180v160Zm440 0h160v-160H620v160ZM180-180h160v-160H180v160Zm440 0h160v-160H620v160Z\"/>\n",
              "  </svg>\n",
              "    </button>\n",
              "\n",
              "  <style>\n",
              "    .colab-df-container {\n",
              "      display:flex;\n",
              "      gap: 12px;\n",
              "    }\n",
              "\n",
              "    .colab-df-convert {\n",
              "      background-color: #E8F0FE;\n",
              "      border: none;\n",
              "      border-radius: 50%;\n",
              "      cursor: pointer;\n",
              "      display: none;\n",
              "      fill: #1967D2;\n",
              "      height: 32px;\n",
              "      padding: 0 0 0 0;\n",
              "      width: 32px;\n",
              "    }\n",
              "\n",
              "    .colab-df-convert:hover {\n",
              "      background-color: #E2EBFA;\n",
              "      box-shadow: 0px 1px 2px rgba(60, 64, 67, 0.3), 0px 1px 3px 1px rgba(60, 64, 67, 0.15);\n",
              "      fill: #174EA6;\n",
              "    }\n",
              "\n",
              "    .colab-df-buttons div {\n",
              "      margin-bottom: 4px;\n",
              "    }\n",
              "\n",
              "    [theme=dark] .colab-df-convert {\n",
              "      background-color: #3B4455;\n",
              "      fill: #D2E3FC;\n",
              "    }\n",
              "\n",
              "    [theme=dark] .colab-df-convert:hover {\n",
              "      background-color: #434B5C;\n",
              "      box-shadow: 0px 1px 3px 1px rgba(0, 0, 0, 0.15);\n",
              "      filter: drop-shadow(0px 1px 2px rgba(0, 0, 0, 0.3));\n",
              "      fill: #FFFFFF;\n",
              "    }\n",
              "  </style>\n",
              "\n",
              "    <script>\n",
              "      const buttonEl =\n",
              "        document.querySelector('#df-f15b9e23-a563-4292-9f50-dbd5a0083bc0 button.colab-df-convert');\n",
              "      buttonEl.style.display =\n",
              "        google.colab.kernel.accessAllowed ? 'block' : 'none';\n",
              "\n",
              "      async function convertToInteractive(key) {\n",
              "        const element = document.querySelector('#df-f15b9e23-a563-4292-9f50-dbd5a0083bc0');\n",
              "        const dataTable =\n",
              "          await google.colab.kernel.invokeFunction('convertToInteractive',\n",
              "                                                    [key], {});\n",
              "        if (!dataTable) return;\n",
              "\n",
              "        const docLinkHtml = 'Like what you see? Visit the ' +\n",
              "          '<a target=\"_blank\" href=https://colab.research.google.com/notebooks/data_table.ipynb>data table notebook</a>'\n",
              "          + ' to learn more about interactive tables.';\n",
              "        element.innerHTML = '';\n",
              "        dataTable['output_type'] = 'display_data';\n",
              "        await google.colab.output.renderOutput(dataTable, element);\n",
              "        const docLink = document.createElement('div');\n",
              "        docLink.innerHTML = docLinkHtml;\n",
              "        element.appendChild(docLink);\n",
              "      }\n",
              "    </script>\n",
              "  </div>\n",
              "\n",
              "\n",
              "<div id=\"df-6d76a886-193e-4426-9f7d-34b4af9caa40\">\n",
              "  <button class=\"colab-df-quickchart\" onclick=\"quickchart('df-6d76a886-193e-4426-9f7d-34b4af9caa40')\"\n",
              "            title=\"Suggest charts\"\n",
              "            style=\"display:none;\">\n",
              "\n",
              "<svg xmlns=\"http://www.w3.org/2000/svg\" height=\"24px\"viewBox=\"0 0 24 24\"\n",
              "     width=\"24px\">\n",
              "    <g>\n",
              "        <path d=\"M19 3H5c-1.1 0-2 .9-2 2v14c0 1.1.9 2 2 2h14c1.1 0 2-.9 2-2V5c0-1.1-.9-2-2-2zM9 17H7v-7h2v7zm4 0h-2V7h2v10zm4 0h-2v-4h2v4z\"/>\n",
              "    </g>\n",
              "</svg>\n",
              "  </button>\n",
              "\n",
              "<style>\n",
              "  .colab-df-quickchart {\n",
              "      --bg-color: #E8F0FE;\n",
              "      --fill-color: #1967D2;\n",
              "      --hover-bg-color: #E2EBFA;\n",
              "      --hover-fill-color: #174EA6;\n",
              "      --disabled-fill-color: #AAA;\n",
              "      --disabled-bg-color: #DDD;\n",
              "  }\n",
              "\n",
              "  [theme=dark] .colab-df-quickchart {\n",
              "      --bg-color: #3B4455;\n",
              "      --fill-color: #D2E3FC;\n",
              "      --hover-bg-color: #434B5C;\n",
              "      --hover-fill-color: #FFFFFF;\n",
              "      --disabled-bg-color: #3B4455;\n",
              "      --disabled-fill-color: #666;\n",
              "  }\n",
              "\n",
              "  .colab-df-quickchart {\n",
              "    background-color: var(--bg-color);\n",
              "    border: none;\n",
              "    border-radius: 50%;\n",
              "    cursor: pointer;\n",
              "    display: none;\n",
              "    fill: var(--fill-color);\n",
              "    height: 32px;\n",
              "    padding: 0;\n",
              "    width: 32px;\n",
              "  }\n",
              "\n",
              "  .colab-df-quickchart:hover {\n",
              "    background-color: var(--hover-bg-color);\n",
              "    box-shadow: 0 1px 2px rgba(60, 64, 67, 0.3), 0 1px 3px 1px rgba(60, 64, 67, 0.15);\n",
              "    fill: var(--button-hover-fill-color);\n",
              "  }\n",
              "\n",
              "  .colab-df-quickchart-complete:disabled,\n",
              "  .colab-df-quickchart-complete:disabled:hover {\n",
              "    background-color: var(--disabled-bg-color);\n",
              "    fill: var(--disabled-fill-color);\n",
              "    box-shadow: none;\n",
              "  }\n",
              "\n",
              "  .colab-df-spinner {\n",
              "    border: 2px solid var(--fill-color);\n",
              "    border-color: transparent;\n",
              "    border-bottom-color: var(--fill-color);\n",
              "    animation:\n",
              "      spin 1s steps(1) infinite;\n",
              "  }\n",
              "\n",
              "  @keyframes spin {\n",
              "    0% {\n",
              "      border-color: transparent;\n",
              "      border-bottom-color: var(--fill-color);\n",
              "      border-left-color: var(--fill-color);\n",
              "    }\n",
              "    20% {\n",
              "      border-color: transparent;\n",
              "      border-left-color: var(--fill-color);\n",
              "      border-top-color: var(--fill-color);\n",
              "    }\n",
              "    30% {\n",
              "      border-color: transparent;\n",
              "      border-left-color: var(--fill-color);\n",
              "      border-top-color: var(--fill-color);\n",
              "      border-right-color: var(--fill-color);\n",
              "    }\n",
              "    40% {\n",
              "      border-color: transparent;\n",
              "      border-right-color: var(--fill-color);\n",
              "      border-top-color: var(--fill-color);\n",
              "    }\n",
              "    60% {\n",
              "      border-color: transparent;\n",
              "      border-right-color: var(--fill-color);\n",
              "    }\n",
              "    80% {\n",
              "      border-color: transparent;\n",
              "      border-right-color: var(--fill-color);\n",
              "      border-bottom-color: var(--fill-color);\n",
              "    }\n",
              "    90% {\n",
              "      border-color: transparent;\n",
              "      border-bottom-color: var(--fill-color);\n",
              "    }\n",
              "  }\n",
              "</style>\n",
              "\n",
              "  <script>\n",
              "    async function quickchart(key) {\n",
              "      const quickchartButtonEl =\n",
              "        document.querySelector('#' + key + ' button');\n",
              "      quickchartButtonEl.disabled = true;  // To prevent multiple clicks.\n",
              "      quickchartButtonEl.classList.add('colab-df-spinner');\n",
              "      try {\n",
              "        const charts = await google.colab.kernel.invokeFunction(\n",
              "            'suggestCharts', [key], {});\n",
              "      } catch (error) {\n",
              "        console.error('Error during call to suggestCharts:', error);\n",
              "      }\n",
              "      quickchartButtonEl.classList.remove('colab-df-spinner');\n",
              "      quickchartButtonEl.classList.add('colab-df-quickchart-complete');\n",
              "    }\n",
              "    (() => {\n",
              "      let quickchartButtonEl =\n",
              "        document.querySelector('#df-6d76a886-193e-4426-9f7d-34b4af9caa40 button');\n",
              "      quickchartButtonEl.style.display =\n",
              "        google.colab.kernel.accessAllowed ? 'block' : 'none';\n",
              "    })();\n",
              "  </script>\n",
              "</div>\n",
              "\n",
              "    </div>\n",
              "  </div>\n"
            ],
            "application/vnd.google.colaboratory.intrinsic+json": {
              "type": "dataframe",
              "summary": "{\n  \"name\": \"    print(\\\"Label position distribution:\\\\n\\\", positions\",\n  \"rows\": 5,\n  \"fields\": [\n    {\n      \"column\": \"user_id\",\n      \"properties\": {\n        \"dtype\": \"number\",\n        \"std\": 0,\n        \"min\": 1,\n        \"max\": 1,\n        \"num_unique_values\": 1,\n        \"samples\": [\n          1\n        ],\n        \"semantic_type\": \"\",\n        \"description\": \"\"\n      }\n    },\n    {\n      \"column\": \"history\",\n      \"properties\": {\n        \"dtype\": \"object\",\n        \"semantic_type\": \"\",\n        \"description\": \"\"\n      }\n    },\n    {\n      \"column\": \"history_titles\",\n      \"properties\": {\n        \"dtype\": \"object\",\n        \"semantic_type\": \"\",\n        \"description\": \"\"\n      }\n    },\n    {\n      \"column\": \"history_genres\",\n      \"properties\": {\n        \"dtype\": \"object\",\n        \"semantic_type\": \"\",\n        \"description\": \"\"\n      }\n    },\n    {\n      \"column\": \"candidates\",\n      \"properties\": {\n        \"dtype\": \"object\",\n        \"semantic_type\": \"\",\n        \"description\": \"\"\n      }\n    },\n    {\n      \"column\": \"candidates_titles\",\n      \"properties\": {\n        \"dtype\": \"object\",\n        \"semantic_type\": \"\",\n        \"description\": \"\"\n      }\n    },\n    {\n      \"column\": \"candidates_genres\",\n      \"properties\": {\n        \"dtype\": \"object\",\n        \"semantic_type\": \"\",\n        \"description\": \"\"\n      }\n    },\n    {\n      \"column\": \"label\",\n      \"properties\": {\n        \"dtype\": \"number\",\n        \"std\": 1143,\n        \"min\": 531,\n        \"max\": 2918,\n        \"num_unique_values\": 5,\n        \"samples\": [\n          1246\n        ],\n        \"semantic_type\": \"\",\n        \"description\": \"\"\n      }\n    },\n    {\n      \"column\": \"label_title\",\n      \"properties\": {\n        \"dtype\": \"string\",\n        \"num_unique_values\": 5,\n        \"samples\": [\n          \"Dead Poets Society (1989)\"\n        ],\n        \"semantic_type\": \"\",\n        \"description\": \"\"\n      }\n    }\n  ]\n}"
            }
          },
          "metadata": {}
        },
        {
          "output_type": "stream",
          "name": "stdout",
          "text": [
            "\n",
            "--- Train Stats ---\n",
            "Total samples: 134559\n",
            "Unique users: 6040\n",
            "Unique items: 3706\n",
            "History length stats:\n",
            " count    134559.000000\n",
            "mean         15.744551\n",
            "std           6.568758\n",
            "min           5.000000\n",
            "25%          10.000000\n",
            "50%          16.000000\n",
            "75%          21.000000\n",
            "max          27.000000\n",
            "Name: hist_len, dtype: float64\n",
            "Candidate lengths: [20]\n",
            "Label position distribution:\n",
            " 0     6740\n",
            "1     6681\n",
            "2     6630\n",
            "3     6693\n",
            "4     6585\n",
            "5     6714\n",
            "6     6813\n",
            "7     6659\n",
            "8     6726\n",
            "9     6682\n",
            "10    6701\n",
            "11    6882\n",
            "12    6763\n",
            "13    6895\n",
            "14    6712\n",
            "15    6668\n",
            "16    6703\n",
            "17    6828\n",
            "18    6739\n",
            "19    6745\n",
            "Name: count, dtype: int64\n"
          ]
        }
      ]
    }
  ]
}